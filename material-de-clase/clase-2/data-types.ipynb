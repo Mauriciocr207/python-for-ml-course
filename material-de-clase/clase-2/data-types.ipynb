{
 "cells": [
  {
   "cell_type": "markdown",
   "id": "e39fb85b",
   "metadata": {},
   "source": [
    "# Python Data Types"
   ]
  },
  {
   "cell_type": "markdown",
   "id": "823e88da",
   "metadata": {},
   "source": [
    "Hoy vamos a ver los tipos de datos en python.\n",
    "Hay algo que quiero que sepas antes de comenzar, algo que debe quedar muy claro.\n",
    "\n",
    "> Todo es un objeto en python\n",
    "\n",
    "En python, cada tipo de dato es tratado como un objeto, eso significa que todos los tipos\n",
    "de datos tienen métodos y propiedades propios de ese tipo de dato.\n",
    "Recuerda que un objeto en programación es una unidad que combina datos y comportamientos \n",
    "relacionados en una sola entidad.\n",
    "\n",
    "Se entiende mejor viendo sus dos componentes principales:\n",
    "\n",
    "- Datos (atributos o propiedades):\n",
    "    Son las características que describen al objeto.\n",
    "\n",
    "    Ejemplo: en un objeto \"Coche\", los datos podrían ser `color`, `marca` , `velocidad`.\n",
    "\n",
    "- Comportamientos (métodos o funciones):\n",
    "    Son las acciones que el objeto puede realizar.\n",
    "\n",
    "    Ejemplo: un \"Coche\" puede `acelerar()`, `frenar()`, `girar()`.\n",
    "\n",
    "Ahora que hemos colocado esta idea sobre la mesa, comencemos con los tipos de datos. \n",
    "\n",
    "```\n",
    "Tipos de datos en Python\n",
    "│\n",
    "├── Numéricos\n",
    "│   ├── int       [enteros: 1, -5, 1000]\n",
    "│   ├── float     [decimales: 3.14, -2.7]\n",
    "│   └── complex   [complejos: 2+3j]\n",
    "│\n",
    "├── Texto\n",
    "│   └── str       [cadenas: \"hola\", 'Python']\n",
    "│\n",
    "├── Booleanos\n",
    "│   └── bool      [True, False]\n",
    "│\n",
    "├── Secuencias\n",
    "│   ├── list      [listas: [1, 2, 3]]\n",
    "│   ├── tuple     [tuplas: (1, 2, 3)]\n",
    "│   └── range     [rangos: range(5)]\n",
    "│\n",
    "├── Conjuntos\n",
    "│   ├── set       [conjuntos: {1, 2, 3}]\n",
    "│   └── frozenset [conjuntos inmutables]\n",
    "│\n",
    "├── Mapas\n",
    "│   └── dict      [diccionarios: {\"a\": 1, \"b\": 2}]\n",
    "│\n",
    "└── Tipo especial\n",
    "    └── NoneType  [None]\n",
    "```"
   ]
  },
  {
   "cell_type": "markdown",
   "id": "32ff38eb",
   "metadata": {},
   "source": [
    "## Int"
   ]
  },
  {
   "cell_type": "code",
   "execution_count": 137,
   "id": "16b0f353",
   "metadata": {},
   "outputs": [
    {
     "name": "stdout",
     "output_type": "stream",
     "text": [
      "13\n",
      "7\n",
      "30\n",
      "3.3333333333333335\n",
      "1000\n",
      "1\n"
     ]
    }
   ],
   "source": [
    "num = 10\n",
    "num_2 = 3\n",
    "\n",
    "# suma\n",
    "print(num + num_2)\n",
    "# resta\n",
    "print(num - num_2)\n",
    "# multiplicacion\n",
    "print(num * num_2)\n",
    "#division\n",
    "print(num / num_2)\n",
    "# potencia\n",
    "print(num ** num_2)\n",
    "# modulo\n",
    "print(num % num_2)"
   ]
  },
  {
   "cell_type": "code",
   "execution_count": 138,
   "id": "fd5464b3",
   "metadata": {},
   "outputs": [
    {
     "name": "stdout",
     "output_type": "stream",
     "text": [
      "False\n"
     ]
    }
   ],
   "source": [
    "# Saber si es par o impar\n",
    "print(7 % 2 == 0)"
   ]
  },
  {
   "cell_type": "markdown",
   "id": "ca6e02be",
   "metadata": {},
   "source": [
    "## Float"
   ]
  },
  {
   "cell_type": "code",
   "execution_count": 139,
   "id": "660207e2",
   "metadata": {},
   "outputs": [
    {
     "name": "stdout",
     "output_type": "stream",
     "text": [
      "<class 'float'>\n",
      "<class 'float'>\n",
      "<class 'float'>\n",
      "1.5\n",
      "1.5\n"
     ]
    }
   ],
   "source": [
    "print(type( 1.5 ))\n",
    "print(type( 1. ))\n",
    "print(type( .5 ))\n",
    "\n",
    "print(1. + .5)\n",
    "\n",
    "print(1 + .5)"
   ]
  },
  {
   "cell_type": "markdown",
   "id": "d3b8739a",
   "metadata": {},
   "source": [
    "## Complex"
   ]
  },
  {
   "cell_type": "code",
   "execution_count": 140,
   "id": "7a3aab23",
   "metadata": {},
   "outputs": [
    {
     "name": "stdout",
     "output_type": "stream",
     "text": [
      "<class 'complex'>\n"
     ]
    },
    {
     "data": {
      "text/plain": [
       "(-3+4j)"
      ]
     },
     "execution_count": 140,
     "metadata": {},
     "output_type": "execute_result"
    }
   ],
   "source": [
    "print(type(1j))\n",
    "(1 + 2j) ** 2\n",
    "\n",
    "# 1^2 + 2(2j)(1) +(2j)^2\n",
    "# 1 + 4j +4(-1)\n",
    "# -4 + 1 + 4j"
   ]
  },
  {
   "cell_type": "markdown",
   "id": "ee11bf5f",
   "metadata": {},
   "source": [
    "## Str"
   ]
  },
  {
   "cell_type": "code",
   "execution_count": 141,
   "id": "e19b6584",
   "metadata": {},
   "outputs": [
    {
     "name": "stdout",
     "output_type": "stream",
     "text": [
      "Hola, Victor\n",
      "4\n",
      "Hola, Victor\n",
      "Victor carrillo\n",
      "VICTOR\n",
      "victor\n"
     ]
    }
   ],
   "source": [
    "saludo = \"Hola\"\n",
    "nombre = \"Victor\"\n",
    "# suma strings\n",
    "print(saludo + \", \" + nombre)\n",
    "# len function\n",
    "print(len(saludo))\n",
    "# f-strings\n",
    "print(f\"{saludo}, {nombre}\")\n",
    "# formateo\n",
    "print(\"victor carrillo\".capitalize())\n",
    "print(\"Victor\".upper())\n",
    "print(\"vICTor\".lower())"
   ]
  },
  {
   "cell_type": "code",
   "execution_count": 142,
   "id": "305c1dbd",
   "metadata": {},
   "outputs": [
    {
     "name": "stdout",
     "output_type": "stream",
     "text": [
      "97\n",
      "98\n",
      "99\n",
      "100\n"
     ]
    }
   ],
   "source": [
    "for letra in \"abcd\":\n",
    "    print(ord(letra)) #Saber código ascii de cada letra"
   ]
  },
  {
   "cell_type": "code",
   "execution_count": 143,
   "id": "cee9ede9",
   "metadata": {},
   "outputs": [
    {
     "name": "stdout",
     "output_type": "stream",
     "text": [
      "hola_mundo hola-mundo\n",
      "hola\n"
     ]
    },
    {
     "data": {
      "text/plain": [
       "'HOLA, K'"
      ]
     },
     "execution_count": 143,
     "metadata": {},
     "output_type": "execute_result"
    }
   ],
   "source": [
    "saludo = \"hola_mundo\"\n",
    "saludo_2 = saludo.replace(\"_\", \"-\")\n",
    "print(saludo, saludo_2)\n",
    "\n",
    "print(\"   hola    \".strip())\n",
    "\n",
    "nombre = input(\"¿Cuál es tu nombre?\")\n",
    "f\"HOLA, {nombre.strip().upper()}\""
   ]
  },
  {
   "cell_type": "markdown",
   "id": "15ecb033",
   "metadata": {},
   "source": [
    "# Dict"
   ]
  },
  {
   "cell_type": "code",
   "execution_count": 144,
   "id": "97f4a1a5",
   "metadata": {},
   "outputs": [
    {
     "name": "stdout",
     "output_type": "stream",
     "text": [
      "dict_keys(['uno', 'dos'])\n",
      "dict_keys(['uno', 'dos'])\n",
      "dict_keys(['uno', 'dos'])\n"
     ]
    }
   ],
   "source": [
    "\"\"\"\n",
    "dict = {\n",
    "    [clave](\"\" o ''): [valor] (cualquier tipo)\n",
    "}\n",
    "\"\"\"\n",
    "numeros = {\n",
    "    'uno': 1,\n",
    "    \"dos\": 2\n",
    "}\n",
    "\n",
    "print(numeros.keys())\n",
    "print(numeros.keys())\n",
    "print(numeros.keys())"
   ]
  },
  {
   "cell_type": "code",
   "execution_count": 145,
   "id": "84fb6d18",
   "metadata": {},
   "outputs": [
    {
     "data": {
      "text/plain": [
       "{'uno': 2, 'dos': 3, 'tres': 4}"
      ]
     },
     "execution_count": 145,
     "metadata": {},
     "output_type": "execute_result"
    }
   ],
   "source": [
    "numeros[\"uno\"] = numeros[\"uno\"] + 1\n",
    "numeros[\"dos\"] += 1\n",
    "numeros[\"tres\"] = numeros.get(\"tres\", 3) + 1\n",
    "\n",
    "numeros"
   ]
  },
  {
   "cell_type": "code",
   "execution_count": null,
   "id": "dcccc6fc",
   "metadata": {},
   "outputs": [
    {
     "name": "stdout",
     "output_type": "stream",
     "text": [
      "{'ruedas': 6} {'ruedas': 6}\n"
     ]
    }
   ],
   "source": [
    "# variable -> objeto -> memoria\n",
    "# (c++) variable -> * & -> memoria\n",
    "carro = {\n",
    "    \"ruedas\": 4\n",
    "}\n",
    "\n",
    "carro2 = carro\n",
    "\n",
    "carro2[\"ruedas\"] = 6\n",
    "\n",
    "print(carro, carro2)"
   ]
  },
  {
   "cell_type": "code",
   "execution_count": null,
   "id": "9cbc4f2e",
   "metadata": {},
   "outputs": [
    {
     "name": "stdout",
     "output_type": "stream",
     "text": [
      "True False\n"
     ]
    }
   ],
   "source": [
    "num = True\n",
    "num2 = num\n",
    "\n",
    "num2 = False\n",
    "\n",
    "print(num, num2)"
   ]
  },
  {
   "cell_type": "markdown",
   "id": "8a9bb264",
   "metadata": {},
   "source": [
    "## Inmutables\n",
    "- int\n",
    "- float\n",
    "- str\n",
    "- boolean\n",
    "\n",
    "## Mutables\n",
    "- dict\n",
    "- listas\n",
    "- set\n",
    "- tuplas\n",
    "- ..."
   ]
  },
  {
   "cell_type": "markdown",
   "id": "f93eb492",
   "metadata": {},
   "source": [
    "Revisa tipos aquí -> [built-in types](https://docs.python.org/3/library/stdtypes.html#)"
   ]
  },
  {
   "cell_type": "markdown",
   "id": "94b44cfa",
   "metadata": {},
   "source": [
    "## List"
   ]
  },
  {
   "cell_type": "code",
   "execution_count": null,
   "id": "0ee3cd80",
   "metadata": {},
   "outputs": [],
   "source": []
  },
  {
   "cell_type": "markdown",
   "id": "6bd73117",
   "metadata": {},
   "source": [
    "## Tuple"
   ]
  },
  {
   "cell_type": "code",
   "execution_count": null,
   "id": "c7eeab22",
   "metadata": {},
   "outputs": [],
   "source": []
  },
  {
   "cell_type": "markdown",
   "id": "be392494",
   "metadata": {},
   "source": [
    "## Range"
   ]
  },
  {
   "cell_type": "code",
   "execution_count": null,
   "id": "efbc4161",
   "metadata": {},
   "outputs": [],
   "source": []
  }
 ],
 "metadata": {
  "kernelspec": {
   "display_name": "Python 3",
   "language": "python",
   "name": "python3"
  },
  "language_info": {
   "codemirror_mode": {
    "name": "ipython",
    "version": 3
   },
   "file_extension": ".py",
   "mimetype": "text/x-python",
   "name": "python",
   "nbconvert_exporter": "python",
   "pygments_lexer": "ipython3",
   "version": "3.13.7"
  }
 },
 "nbformat": 4,
 "nbformat_minor": 5
}
