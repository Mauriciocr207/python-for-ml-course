{
 "cells": [
  {
   "cell_type": "markdown",
   "id": "e39fb85b",
   "metadata": {},
   "source": [
    "# Python Data Types"
   ]
  },
  {
   "cell_type": "markdown",
   "id": "823e88da",
   "metadata": {},
   "source": [
    "Hoy vamos a ver los tipos de datos en python.\n",
    "Hay algo que quiero que sepas antes de comenzar, algo que debe quedar muy claro.\n",
    "\n",
    "> Todo es un objeto en python\n",
    "\n",
    "En python, cada tipo de dato es tratado como un objeto, eso significa que todos los tipos\n",
    "de datos tienen métodos y propiedades propios de ese tipo de dato.\n",
    "Recuerda que un objeto en programación es una unidad que combina datos y comportamientos \n",
    "relacionados en una sola entidad.\n",
    "\n",
    "Se entiende mejor viendo sus dos componentes principales:\n",
    "\n",
    "- Datos (atributos o propiedades):\n",
    "    Son las características que describen al objeto.\n",
    "\n",
    "    Ejemplo: en un objeto \"Coche\", los datos podrían ser `color`, `marca` , `velocidad`.\n",
    "\n",
    "- Comportamientos (métodos o funciones):\n",
    "    Son las acciones que el objeto puede realizar.\n",
    "\n",
    "    Ejemplo: un \"Coche\" puede `acelerar()`, `frenar()`, `girar()`.\n",
    "\n",
    "Ahora que hemos colocado esta idea sobre la mesa, comencemos con los tipos de datos. \n",
    "\n",
    "```\n",
    "Tipos de datos en Python\n",
    "│\n",
    "├── Numéricos\n",
    "│   ├── int       [enteros: 1, -5, 1000]\n",
    "│   ├── float     [decimales: 3.14, -2.7]\n",
    "│   └── complex   [complejos: 2+3j]\n",
    "│\n",
    "├── Texto\n",
    "│   └── str       [cadenas: \"hola\", 'Python']\n",
    "│\n",
    "├── Booleanos\n",
    "│   └── bool      [True, False]\n",
    "│\n",
    "├── Secuencias\n",
    "│   ├── list      [listas: [1, 2, 3]]\n",
    "│   ├── tuple     [tuplas: (1, 2, 3)]\n",
    "│   └── range     [rangos: range(5)]\n",
    "│\n",
    "├── Conjuntos\n",
    "│   ├── set       [conjuntos: {1, 2, 3}]\n",
    "│   └── frozenset [conjuntos inmutables]\n",
    "│\n",
    "├── Mapas\n",
    "│   └── dict      [diccionarios: {\"a\": 1, \"b\": 2}]\n",
    "│\n",
    "└── Tipo especial\n",
    "    └── NoneType  [None]\n",
    "```"
   ]
  },
  {
   "cell_type": "markdown",
   "id": "32ff38eb",
   "metadata": {},
   "source": [
    "## Int"
   ]
  },
  {
   "cell_type": "code",
   "execution_count": 137,
   "id": "16b0f353",
   "metadata": {},
   "outputs": [
    {
     "name": "stdout",
     "output_type": "stream",
     "text": [
      "13\n",
      "7\n",
      "30\n",
      "3.3333333333333335\n",
      "1000\n",
      "1\n"
     ]
    }
   ],
   "source": [
    "num = 10\n",
    "num_2 = 3\n",
    "\n",
    "# suma\n",
    "print(num + num_2)\n",
    "# resta\n",
    "print(num - num_2)\n",
    "# multiplicacion\n",
    "print(num * num_2)\n",
    "#division\n",
    "print(num / num_2)\n",
    "# potencia\n",
    "print(num ** num_2)\n",
    "# modulo\n",
    "print(num % num_2)"
   ]
  },
  {
   "cell_type": "code",
   "execution_count": 138,
   "id": "fd5464b3",
   "metadata": {},
   "outputs": [
    {
     "name": "stdout",
     "output_type": "stream",
     "text": [
      "False\n"
     ]
    }
   ],
   "source": [
    "# Saber si es par o impar\n",
    "print(7 % 2 == 0)"
   ]
  },
  {
   "cell_type": "markdown",
   "id": "ca6e02be",
   "metadata": {},
   "source": [
    "## Float"
   ]
  },
  {
   "cell_type": "code",
   "execution_count": 139,
   "id": "660207e2",
   "metadata": {},
   "outputs": [
    {
     "name": "stdout",
     "output_type": "stream",
     "text": [
      "<class 'float'>\n",
      "<class 'float'>\n",
      "<class 'float'>\n",
      "1.5\n",
      "1.5\n"
     ]
    }
   ],
   "source": [
    "print(type( 1.5 ))\n",
    "print(type( 1. ))\n",
    "print(type( .5 ))\n",
    "\n",
    "print(1. + .5)\n",
    "\n",
    "print(1 + .5)"
   ]
  },
  {
   "cell_type": "markdown",
   "id": "d3b8739a",
   "metadata": {},
   "source": [
    "## Complex"
   ]
  },
  {
   "cell_type": "code",
   "execution_count": 140,
   "id": "7a3aab23",
   "metadata": {},
   "outputs": [
    {
     "name": "stdout",
     "output_type": "stream",
     "text": [
      "<class 'complex'>\n"
     ]
    },
    {
     "data": {
      "text/plain": [
       "(-3+4j)"
      ]
     },
     "execution_count": 140,
     "metadata": {},
     "output_type": "execute_result"
    }
   ],
   "source": [
    "print(type(1j))\n",
    "(1 + 2j) ** 2\n",
    "\n",
    "# 1^2 + 2(2j)(1) +(2j)^2\n",
    "# 1 + 4j +4(-1)\n",
    "# -4 + 1 + 4j"
   ]
  },
  {
   "cell_type": "markdown",
   "id": "ee11bf5f",
   "metadata": {},
   "source": [
    "## Str"
   ]
  },
  {
   "cell_type": "code",
   "execution_count": 141,
   "id": "e19b6584",
   "metadata": {},
   "outputs": [
    {
     "name": "stdout",
     "output_type": "stream",
     "text": [
      "Hola, Victor\n",
      "4\n",
      "Hola, Victor\n",
      "Victor carrillo\n",
      "VICTOR\n",
      "victor\n"
     ]
    }
   ],
   "source": [
    "saludo = \"Hola\"\n",
    "nombre = \"Victor\"\n",
    "# suma strings\n",
    "print(saludo + \", \" + nombre)\n",
    "# len function\n",
    "print(len(saludo))\n",
    "# f-strings\n",
    "print(f\"{saludo}, {nombre}\")\n",
    "# formateo\n",
    "print(\"victor carrillo\".capitalize())\n",
    "print(\"Victor\".upper())\n",
    "print(\"vICTor\".lower())"
   ]
  },
  {
   "cell_type": "code",
   "execution_count": 142,
   "id": "305c1dbd",
   "metadata": {},
   "outputs": [
    {
     "name": "stdout",
     "output_type": "stream",
     "text": [
      "97\n",
      "98\n",
      "99\n",
      "100\n"
     ]
    }
   ],
   "source": [
    "for letra in \"abcd\":\n",
    "    print(ord(letra)) #Saber código ascii de cada letra"
   ]
  },
  {
   "cell_type": "code",
   "execution_count": 143,
   "id": "cee9ede9",
   "metadata": {},
   "outputs": [
    {
     "name": "stdout",
     "output_type": "stream",
     "text": [
      "hola_mundo hola-mundo\n",
      "hola\n"
     ]
    },
    {
     "data": {
      "text/plain": [
       "'HOLA, K'"
      ]
     },
     "execution_count": 143,
     "metadata": {},
     "output_type": "execute_result"
    }
   ],
   "source": [
    "saludo = \"hola_mundo\"\n",
    "saludo_2 = saludo.replace(\"_\", \"-\")\n",
    "print(saludo, saludo_2)\n",
    "\n",
    "print(\"   hola    \".strip())\n",
    "\n",
    "nombre = input(\"¿Cuál es tu nombre?\")\n",
    "f\"HOLA, {nombre.strip().upper()}\""
   ]
  },
  {
   "cell_type": "markdown",
   "id": "15ecb033",
   "metadata": {},
   "source": [
    "# Dict"
   ]
  },
  {
   "cell_type": "code",
   "execution_count": 144,
   "id": "97f4a1a5",
   "metadata": {},
   "outputs": [
    {
     "name": "stdout",
     "output_type": "stream",
     "text": [
      "dict_keys(['uno', 'dos'])\n",
      "dict_keys(['uno', 'dos'])\n",
      "dict_keys(['uno', 'dos'])\n"
     ]
    }
   ],
   "source": [
    "\"\"\"\n",
    "dict = {\n",
    "    [clave](\"\" o ''): [valor] (cualquier tipo)\n",
    "}\n",
    "\"\"\"\n",
    "numeros = {\n",
    "    'uno': 1,\n",
    "    \"dos\": 2\n",
    "}\n",
    "\n",
    "print(numeros.keys())\n",
    "print(numeros.keys())\n",
    "print(numeros.keys())"
   ]
  },
  {
   "cell_type": "code",
   "execution_count": 145,
   "id": "84fb6d18",
   "metadata": {},
   "outputs": [
    {
     "data": {
      "text/plain": [
       "{'uno': 2, 'dos': 3, 'tres': 4}"
      ]
     },
     "execution_count": 145,
     "metadata": {},
     "output_type": "execute_result"
    }
   ],
   "source": [
    "numeros[\"uno\"] = numeros[\"uno\"] + 1\n",
    "numeros[\"dos\"] += 1\n",
    "numeros[\"tres\"] = numeros.get(\"tres\", 3) + 1\n",
    "\n",
    "numeros"
   ]
  },
  {
   "cell_type": "code",
   "execution_count": null,
   "id": "dcccc6fc",
   "metadata": {},
   "outputs": [
    {
     "name": "stdout",
     "output_type": "stream",
     "text": [
      "{'ruedas': 6} {'ruedas': 6}\n"
     ]
    }
   ],
   "source": [
    "# variable -> objeto -> memoria\n",
    "# (c++) variable -> * & -> memoria\n",
    "carro = {\n",
    "    \"ruedas\": 4\n",
    "}\n",
    "\n",
    "carro2 = carro\n",
    "\n",
    "carro2[\"ruedas\"] = 6\n",
    "\n",
    "print(carro, carro2)"
   ]
  },
  {
   "cell_type": "code",
   "execution_count": null,
   "id": "9cbc4f2e",
   "metadata": {},
   "outputs": [
    {
     "name": "stdout",
     "output_type": "stream",
     "text": [
      "True False\n"
     ]
    }
   ],
   "source": [
    "num = True\n",
    "num2 = num\n",
    "\n",
    "num2 = False\n",
    "\n",
    "print(num, num2)"
   ]
  },
  {
   "cell_type": "markdown",
   "id": "8a9bb264",
   "metadata": {},
   "source": [
    "## Inmutables\n",
    "- int\n",
    "- float\n",
    "- str\n",
    "- boolean\n",
    "\n",
    "## Mutables\n",
    "- dict\n",
    "- listas\n",
    "- set\n",
    "- tuplas\n",
    "- ..."
   ]
  },
  {
   "cell_type": "markdown",
   "id": "f93eb492",
   "metadata": {},
   "source": [
    "Revisa tipos aquí -> [built-in types](https://docs.python.org/3/library/stdtypes.html#)"
   ]
  },
  {
   "cell_type": "markdown",
   "id": "94b44cfa",
   "metadata": {},
   "source": [
    "## List"
   ]
  },
  {
   "cell_type": "markdown",
   "id": "573dcc33",
   "metadata": {},
   "source": [
    "- Una lista es una colección ordenada y mutable de elementos\n",
    "- Puede contener distintos tipos de datos: enteros, strings, floats, etc\n",
    "- Se definen usando corchetes"
   ]
  },
  {
   "cell_type": "code",
   "execution_count": 1,
   "id": "0ee3cd80",
   "metadata": {},
   "outputs": [],
   "source": [
    "# Lista de números\n",
    "numeros = [1, 2, 3, 4, 5]\n",
    "\n",
    "# Lista de strings\n",
    "frutas = [\"manzana\", \"banana\", \"pera\"]\n",
    "\n",
    "# Lista mixta\n",
    "mixta = [1, \"hola\", 3.14, True]"
   ]
  },
  {
   "cell_type": "markdown",
   "id": "3025bc84",
   "metadata": {},
   "source": [
    "Operaciones comunes"
   ]
  },
  {
   "cell_type": "code",
   "execution_count": 2,
   "id": "9fffa3ab",
   "metadata": {},
   "outputs": [
    {
     "name": "stdout",
     "output_type": "stream",
     "text": [
      "manzana\n",
      "pera\n",
      "2\n",
      "True\n",
      "Lista ordenada: [1, 2, 3]\n"
     ]
    }
   ],
   "source": [
    "# Acceder a elementos\n",
    "print(frutas[0])   # manzana\n",
    "print(frutas[-1])  # pera\n",
    "\n",
    "# Modificar elementos\n",
    "frutas[1] = \"naranja\"\n",
    "\n",
    "# Agregar elementos\n",
    "frutas.append(\"uva\")\n",
    "frutas.insert(1, \"kiwi\")  # inserta en la posición 1\n",
    "\n",
    "# Eliminar elementos\n",
    "frutas.remove(\"pera\")\n",
    "del frutas[0]  # elimina el primer elemento\n",
    "ultimo = frutas.pop()  # elimina y devuelve el último elemento\n",
    "\n",
    "# Otras operaciones\n",
    "print(len(frutas))  # tamaño\n",
    "print(\"kiwi\" in frutas)  # True\n",
    "print(f\"Lista ordenada: {sorted([3,1,2])}\")\n"
   ]
  },
  {
   "cell_type": "markdown",
   "id": "08893ca2",
   "metadata": {},
   "source": [
    "Ejercicios\n",
    "- Crear una lista con los números del 1 al 10 y mostrar el primer y último elemento.\n",
    "\n",
    "- Agregar \"Python\" al final de la lista lenguajes = [\"C\", \"Java\"].\n",
    "\n",
    "- Cambiar el segundo elemento de la lista colores = [\"rojo\", \"verde\", \"azul\"] a \"amarillo\".\n",
    "\n",
    "- Eliminar el elemento \"banana\" de la lista frutas = [\"manzana\", \"banana\", \"pera\"].\n",
    "\n",
    "- Contar cuántos elementos tiene la lista valores = [10, 20, 30, 40]."
   ]
  },
  {
   "cell_type": "markdown",
   "id": "6bd73117",
   "metadata": {},
   "source": [
    "## Tuple"
   ]
  },
  {
   "cell_type": "markdown",
   "id": "ba2259a7",
   "metadata": {},
   "source": [
    "- Una tupla es una colección ordenada e inmutable.\n",
    "\n",
    "- Se definen usando paréntesis ().\n",
    "\n",
    "- No puedes modificar sus elementos después de crearla."
   ]
  },
  {
   "cell_type": "code",
   "execution_count": 3,
   "id": "c7eeab22",
   "metadata": {},
   "outputs": [],
   "source": [
    "# Tupla de números\n",
    "numeros = (1, 2, 3, 4, 5)\n",
    "\n",
    "# Tupla de strings\n",
    "colores = (\"rojo\", \"verde\", \"azul\")\n",
    "\n",
    "# Tupla mixta\n",
    "mixta = (1, \"hola\", 3.14, True)"
   ]
  },
  {
   "cell_type": "markdown",
   "id": "b52f297b",
   "metadata": {},
   "source": [
    "Operaciones comunes"
   ]
  },
  {
   "cell_type": "code",
   "execution_count": 4,
   "id": "c16b4f3f",
   "metadata": {},
   "outputs": [
    {
     "name": "stdout",
     "output_type": "stream",
     "text": [
      "rojo\n",
      "azul\n",
      "5\n",
      "True\n",
      "1\n",
      "3\n"
     ]
    }
   ],
   "source": [
    "# Acceder a elementos\n",
    "print(colores[0])   # rojo\n",
    "print(colores[-1])  # azul\n",
    "\n",
    "# Otras operaciones\n",
    "print(len(numeros))      # longitud\n",
    "print(2 in numeros)      # True\n",
    "print(numeros.count(3))  # cuántas veces aparece el número 3\n",
    "print(numeros.index(4))  # posición del número 4\n"
   ]
  },
  {
   "cell_type": "markdown",
   "id": "c5934c9a",
   "metadata": {},
   "source": [
    "Ejercicios\n",
    "\n",
    "- Crear una tupla con los días de la semana y mostrar el primero y el último.\n",
    "\n",
    "- Verificar si el número 5 está en la tupla numeros = (1,2,3,4,5).\n",
    "\n",
    "- Contar cuántas veces aparece \"a\" en la tupla letras = ('a','b','a','c','a').\n",
    "\n",
    "- Obtener la posición del elemento \"verde\" en colores = (\"rojo\", \"verde\", \"azul\").\n",
    "\n",
    "- Crear una tupla con un solo elemento: 10."
   ]
  },
  {
   "cell_type": "markdown",
   "id": "be392494",
   "metadata": {},
   "source": [
    "## Range"
   ]
  },
  {
   "cell_type": "markdown",
   "id": "3838a5f8",
   "metadata": {},
   "source": [
    "- range() genera una secuencia de números enteros.\n",
    "\n",
    "- Es muy útil para bucles (for) o generar listas de números."
   ]
  },
  {
   "cell_type": "code",
   "execution_count": 6,
   "id": "efbc4161",
   "metadata": {},
   "outputs": [
    {
     "data": {
      "text/plain": [
       "[0, 2, 4, 6, 8]"
      ]
     },
     "execution_count": 6,
     "metadata": {},
     "output_type": "execute_result"
    }
   ],
   "source": [
    "list(range(0, 10, 2))"
   ]
  },
  {
   "cell_type": "markdown",
   "id": "567803d2",
   "metadata": {},
   "source": [
    "Ejemplos"
   ]
  },
  {
   "cell_type": "code",
   "execution_count": 7,
   "id": "c4c284e4",
   "metadata": {},
   "outputs": [
    {
     "name": "stdout",
     "output_type": "stream",
     "text": [
      "0\n",
      "1\n",
      "2\n",
      "3\n",
      "4\n"
     ]
    }
   ],
   "source": [
    "# Números del 0 al 4\n",
    "for i in range(5):\n",
    "    print(i)\n",
    "\n",
    "# Números del 1 al 10\n",
    "numeros = list(range(1, 11))\n",
    "\n",
    "# Números pares del 2 al 10\n",
    "pares = list(range(2, 11, 2))\n"
   ]
  },
  {
   "cell_type": "markdown",
   "id": "9dc60ecd",
   "metadata": {},
   "source": [
    "Ejercicios:\n",
    "- Generar una lista con los números del 0 al 9.\n",
    "\n",
    "- Crear un range de los números impares del 1 al 20.\n",
    "\n",
    "- Crear una lista con los múltiplos de 5 hasta 50.\n",
    "\n",
    "- Usar un bucle for con range para imprimir \"Hola\" 5 veces.\n",
    "\n",
    "- Crear una lista de números del 10 al 1 usando range."
   ]
  },
  {
   "cell_type": "markdown",
   "id": "908d52c2",
   "metadata": {},
   "source": [
    "## Sets"
   ]
  },
  {
   "cell_type": "markdown",
   "id": "45a535ad",
   "metadata": {},
   "source": [
    "- Un set es una colección desordenada y mutable de elementos únicos.\n",
    "\n",
    "- Se definen usando llaves {} o la función set().\n",
    "\n",
    "- No permiten elementos repetidos."
   ]
  },
  {
   "cell_type": "code",
   "execution_count": 8,
   "id": "84f04cbb",
   "metadata": {},
   "outputs": [],
   "source": [
    "# Set de números\n",
    "numeros = {1, 2, 3, 4, 5}\n",
    "\n",
    "# Set de strings\n",
    "frutas = {\"manzana\", \"banana\", \"pera\"}\n",
    "\n",
    "# Set vacío\n",
    "vacio = set()"
   ]
  },
  {
   "cell_type": "markdown",
   "id": "e89af45b",
   "metadata": {},
   "source": [
    "Operaciones comunes"
   ]
  },
  {
   "cell_type": "code",
   "execution_count": 9,
   "id": "66f02e0f",
   "metadata": {},
   "outputs": [
    {
     "name": "stdout",
     "output_type": "stream",
     "text": [
      "{1, 2, 3, 4, 5}\n",
      "{3}\n",
      "{1, 2}\n",
      "{1, 2, 4, 5}\n"
     ]
    }
   ],
   "source": [
    "# Agregar elementos\n",
    "frutas.add(\"naranja\")\n",
    "\n",
    "# Eliminar elementos\n",
    "frutas.remove(\"pera\")  # genera error si no existe\n",
    "frutas.discard(\"uva\")  # no genera error si no existe\n",
    "\n",
    "# Operaciones de conjuntos\n",
    "A = {1,2,3}\n",
    "B = {3,4,5}\n",
    "print(A | B)  # unión\n",
    "print(A & B)  # intersección\n",
    "print(A - B)  # diferencia\n",
    "print(A ^ B)  # diferencia simétrica\n"
   ]
  },
  {
   "cell_type": "markdown",
   "id": "64b22a42",
   "metadata": {},
   "source": [
    "Ejercicios:\n",
    "- Crear un set con los números del 1 al 5.\n",
    "\n",
    "- Agregar el número 6 al set anterior.\n",
    "\n",
    "- Eliminar el número 3 del set.\n",
    "\n",
    "- Crear dos sets y mostrar su intersección.\n",
    "\n",
    "- Verificar si un elemento está en un set."
   ]
  },
  {
   "cell_type": "code",
   "execution_count": null,
   "id": "68d64534",
   "metadata": {},
   "outputs": [],
   "source": []
  }
 ],
 "metadata": {
  "kernelspec": {
   "display_name": "Python 3",
   "language": "python",
   "name": "python3"
  },
  "language_info": {
   "codemirror_mode": {
    "name": "ipython",
    "version": 3
   },
   "file_extension": ".py",
   "mimetype": "text/x-python",
   "name": "python",
   "nbconvert_exporter": "python",
   "pygments_lexer": "ipython3",
   "version": "3.13.7"
  }
 },
 "nbformat": 4,
 "nbformat_minor": 5
}
