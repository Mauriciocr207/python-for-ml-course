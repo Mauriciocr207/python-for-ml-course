{
 "cells": [
  {
   "cell_type": "markdown",
   "id": "e626244e",
   "metadata": {},
   "source": [
    "# Implementación de un Perceptrón"
   ]
  },
  {
   "cell_type": "markdown",
   "id": "35b35711",
   "metadata": {},
   "source": [
    "### Importamos numpy y pandas"
   ]
  },
  {
   "cell_type": "code",
   "execution_count": 102,
   "id": "1104c243",
   "metadata": {},
   "outputs": [],
   "source": [
    "import pandas as pd\n",
    "import numpy as np\n",
    "import matplotlib.pyplot as plt"
   ]
  },
  {
   "cell_type": "markdown",
   "id": "b46909b8",
   "metadata": {},
   "source": [
    "### The iris dataset"
   ]
  },
  {
   "cell_type": "code",
   "execution_count": 103,
   "id": "f593047c",
   "metadata": {},
   "outputs": [
    {
     "data": {
      "text/html": [
       "<div>\n",
       "<style scoped>\n",
       "    .dataframe tbody tr th:only-of-type {\n",
       "        vertical-align: middle;\n",
       "    }\n",
       "\n",
       "    .dataframe tbody tr th {\n",
       "        vertical-align: top;\n",
       "    }\n",
       "\n",
       "    .dataframe thead th {\n",
       "        text-align: right;\n",
       "    }\n",
       "</style>\n",
       "<table border=\"1\" class=\"dataframe\">\n",
       "  <thead>\n",
       "    <tr style=\"text-align: right;\">\n",
       "      <th></th>\n",
       "      <th>0</th>\n",
       "      <th>1</th>\n",
       "      <th>2</th>\n",
       "      <th>3</th>\n",
       "      <th>4</th>\n",
       "    </tr>\n",
       "  </thead>\n",
       "  <tbody>\n",
       "    <tr>\n",
       "      <th>0</th>\n",
       "      <td>5.1</td>\n",
       "      <td>3.5</td>\n",
       "      <td>1.4</td>\n",
       "      <td>0.2</td>\n",
       "      <td>Iris-setosa</td>\n",
       "    </tr>\n",
       "    <tr>\n",
       "      <th>1</th>\n",
       "      <td>4.9</td>\n",
       "      <td>3.0</td>\n",
       "      <td>1.4</td>\n",
       "      <td>0.2</td>\n",
       "      <td>Iris-setosa</td>\n",
       "    </tr>\n",
       "    <tr>\n",
       "      <th>2</th>\n",
       "      <td>4.7</td>\n",
       "      <td>3.2</td>\n",
       "      <td>1.3</td>\n",
       "      <td>0.2</td>\n",
       "      <td>Iris-setosa</td>\n",
       "    </tr>\n",
       "    <tr>\n",
       "      <th>3</th>\n",
       "      <td>4.6</td>\n",
       "      <td>3.1</td>\n",
       "      <td>1.5</td>\n",
       "      <td>0.2</td>\n",
       "      <td>Iris-setosa</td>\n",
       "    </tr>\n",
       "    <tr>\n",
       "      <th>4</th>\n",
       "      <td>5.0</td>\n",
       "      <td>3.6</td>\n",
       "      <td>1.4</td>\n",
       "      <td>0.2</td>\n",
       "      <td>Iris-setosa</td>\n",
       "    </tr>\n",
       "  </tbody>\n",
       "</table>\n",
       "</div>"
      ],
      "text/plain": [
       "     0    1    2    3            4\n",
       "0  5.1  3.5  1.4  0.2  Iris-setosa\n",
       "1  4.9  3.0  1.4  0.2  Iris-setosa\n",
       "2  4.7  3.2  1.3  0.2  Iris-setosa\n",
       "3  4.6  3.1  1.5  0.2  Iris-setosa\n",
       "4  5.0  3.6  1.4  0.2  Iris-setosa"
      ]
     },
     "execution_count": 103,
     "metadata": {},
     "output_type": "execute_result"
    }
   ],
   "source": [
    "url = \"https://archive.ics.uci.edu/ml/machine-learning-databases/iris/iris.data\"\n",
    "\n",
    "df = pd.read_csv(url, header=None, encoding=\"utf-8\")\n",
    "\n",
    "df.head()"
   ]
  },
  {
   "cell_type": "code",
   "execution_count": 104,
   "id": "a121c679",
   "metadata": {},
   "outputs": [],
   "source": [
    "# Select setosa y versicolor\n",
    "y = df.iloc[0:100, 4].values\n",
    "y = np.where(y == \"Iris-setosa\", 0, 1)\n",
    "\n",
    "# Extraer sepal length y petal length\n",
    "X = df.iloc[0:100, [0,2]].values"
   ]
  },
  {
   "cell_type": "code",
   "execution_count": 105,
   "id": "18ce07d3",
   "metadata": {},
   "outputs": [
    {
     "data": {
      "image/png": "[encoded data removed]",
      "text/plain": [
       "<Figure size 640x480 with 1 Axes>"
      ]
     },
     "metadata": {},
     "output_type": "display_data"
    }
   ],
   "source": [
    "# Plot data\n",
    "plt.scatter(X[:50, 0], X[:50, 1],\n",
    "color='red', marker='o', label='Setosa')\n",
    "plt.scatter(X[50:100, 0], X[50:100, 1],\n",
    "color='blue', marker='s', label='Versicolor')\n",
    "plt.xlabel('Sepal length [cm]')\n",
    "plt.ylabel('Petal length [cm]')\n",
    "plt.legend(loc='upper left')\n",
    "plt.show()"
   ]
  },
  {
   "cell_type": "code",
   "execution_count": 106,
   "id": "fc85c23e",
   "metadata": {},
   "outputs": [
    {
     "name": "stdout",
     "output_type": "stream",
     "text": [
      "Predicción TensorFlow-like: [[0]]\n",
      "Salida directa de Dense: [[-0.7247229]]\n"
     ]
    }
   ],
   "source": [
    "import tensorflow as tf\n",
    "import numpy as np\n",
    "\n",
    "dense = tf.keras.layers.Dense(1)\n",
    "dense.build((None, 2))\n",
    "\n",
    "weights = np.array([[-0.35375655], [0.91388244]])  # (2, 1)\n",
    "bias = np.array([-0.2])\n",
    "dense.set_weights([weights, bias])\n",
    "\n",
    "value = X[0].reshape((1,2))\n",
    "\n",
    "def predict(value, dense):\n",
    "    weights = dense.weights[0].numpy()     # (2, 1)\n",
    "    bias = dense.weights[1].numpy()        # (1,)\n",
    "    net_z = np.dot(value, weights) + bias  # (1, 1)\n",
    "    return np.where(net_z >= 0.0, 1, 0)\n",
    "\n",
    "print(\"Predicción TensorFlow-like:\", predict(value, dense))\n",
    "print(\"Salida directa de Dense:\", dense(value).numpy())\n"
   ]
  },
  {
   "cell_type": "code",
   "execution_count": 107,
   "id": "e5469daf",
   "metadata": {},
   "outputs": [],
   "source": [
    "from custom_plot import plot_decision_regions"
   ]
  },
  {
   "cell_type": "code",
   "execution_count": 108,
   "id": "b85d6016",
   "metadata": {},
   "outputs": [
    {
     "ename": "NameError",
     "evalue": "name 'model' is not defined",
     "output_type": "error",
     "traceback": [
      "\u001b[31m---------------------------------------------------------------------------\u001b[39m",
      "\u001b[31mNameError\u001b[39m                                 Traceback (most recent call last)",
      "\u001b[36mCell\u001b[39m\u001b[36m \u001b[39m\u001b[32mIn[108]\u001b[39m\u001b[32m, line 1\u001b[39m\n\u001b[32m----> \u001b[39m\u001b[32m1\u001b[39m plot_decision_regions(X, y, classifier=\u001b[43mmodel\u001b[49m)\n\u001b[32m      2\u001b[39m plt.xlabel(\u001b[33m'\u001b[39m\u001b[33mSepal length [cm]\u001b[39m\u001b[33m'\u001b[39m)\n\u001b[32m      3\u001b[39m plt.ylabel(\u001b[33m'\u001b[39m\u001b[33mPetal length [cm]\u001b[39m\u001b[33m'\u001b[39m)\n",
      "\u001b[31mNameError\u001b[39m: name 'model' is not defined"
     ]
    }
   ],
   "source": [
    "plot_decision_regions(X, y, classifier=model)\n",
    "plt.xlabel('Sepal length [cm]')\n",
    "plt.ylabel('Petal length [cm]')\n",
    "plt.legend(loc='upper left')\n",
    "plt.show()"
   ]
  },
  {
   "cell_type": "code",
   "execution_count": null,
   "id": "d8c70025",
   "metadata": {},
   "outputs": [
    {
     "name": "stdout",
     "output_type": "stream",
     "text": [
      "Predicción primer dato:  0\n"
     ]
    },
    {
     "data": {
      "text/plain": [
       "0            5.1\n",
       "1            3.5\n",
       "2            1.4\n",
       "3            0.2\n",
       "4    Iris-setosa\n",
       "Name: 0, dtype: object"
      ]
     },
     "execution_count": 23,
     "metadata": {},
     "output_type": "execute_result"
    }
   ],
   "source": [
    "input = np.array(df.iloc[0, [0,2]].to_list())\n",
    "\n",
    "print(\"Predicción primer dato: \", model.predict(input))\n",
    "\n",
    "df.iloc[0, :]"
   ]
  },
  {
   "cell_type": "code",
   "execution_count": null,
   "id": "644e8ac2",
   "metadata": {},
   "outputs": [],
   "source": []
  }
 ],
 "metadata": {
  "kernelspec": {
   "display_name": "Python 3",
   "language": "python",
   "name": "python3"
  },
  "language_info": {
   "codemirror_mode": {
    "name": "ipython",
    "version": 3
   },
   "file_extension": ".py",
   "mimetype": "text/x-python",
   "name": "python",
   "nbconvert_exporter": "python",
   "pygments_lexer": "ipython3",
   "version": "3.13.7"
  }
 },
 "nbformat": 4,
 "nbformat_minor": 5
}
